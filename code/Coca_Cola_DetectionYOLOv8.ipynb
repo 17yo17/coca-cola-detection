{
  "nbformat": 4,
  "nbformat_minor": 0,
  "metadata": {
    "colab": {
      "provenance": [],
      "collapsed_sections": [
        "N3S7bOx5YNDB",
        "i3d9U0Splpf1",
        "cK7YfEkVlUyI"
      ],
      "gpuType": "T4",
      "authorship_tag": "ABX9TyOi5jbsk5kJ/Aofg0dYT5Yj",
      "include_colab_link": true
    },
    "kernelspec": {
      "name": "python3",
      "display_name": "Python 3"
    },
    "language_info": {
      "name": "python"
    },
    "accelerator": "GPU"
  },
  "cells": [
    {
      "cell_type": "markdown",
      "metadata": {
        "id": "view-in-github",
        "colab_type": "text"
      },
      "source": [
        "<a href=\"https://colab.research.google.com/github/17yo17/coca-cola-detection/blob/main/Coca_Cola_DetectionYOLOv8.ipynb\" target=\"_parent\"><img src=\"https://colab.research.google.com/assets/colab-badge.svg\" alt=\"Open In Colab\"/></a>"
      ]
    },
    {
      "cell_type": "markdown",
      "source": [
        "#Resources\n",
        "YOLO Research Paper: https://www.cv-foundation.org/openaccess/content_cvpr_2016/papers/Redmon_You_Only_Look_CVPR_2016_paper.pdf\n",
        "\n",
        "Comprehensive Guide of Computation of\n",
        " Convolutional Networks: https://saturncloud.io/blog/a-comprehensive-guide-to-convolutional-neural-networks-the-eli5-way/ & https://github.com/vdumoulin/conv_arithmetic\n",
        "\n"
      ],
      "metadata": {
        "id": "vU0jPVv0GWBd"
      }
    },
    {
      "cell_type": "markdown",
      "source": [
        "# Setup"
      ],
      "metadata": {
        "id": "N3S7bOx5YNDB"
      }
    },
    {
      "cell_type": "markdown",
      "source": [
        "Git Clone Yolov8, install dependencies, make sure runtime type is set to GPU"
      ],
      "metadata": {
        "id": "ZnuaiqVaYm4O"
      }
    },
    {
      "cell_type": "code",
      "source": [
        "!git clone https://github.com/ultralytics/ultralytics.git\n",
        "%pip install ultralytics\n",
        "%pip install roboflow"
      ],
      "metadata": {
        "id": "KhDddT24YloR"
      },
      "execution_count": null,
      "outputs": []
    },
    {
      "cell_type": "code",
      "source": [
        "## These line of code is produced by roboflow\n",
        "#from roboflow import Roboflow\n",
        "#rf = Roboflow(api_key=\"your-API-key\")\n",
        "#project = rf.workspace(\"roboflow-xuntf\").project(\"coca-cola-detection\")\n",
        "#version = project.version(1)\n",
        "#dataset = version.download(\"yolov8\")"
      ],
      "metadata": {
        "id": "vqpkVdBnG7lT"
      },
      "execution_count": null,
      "outputs": []
    },
    {
      "cell_type": "code",
      "source": [
        "from ultralytics import YOLO"
      ],
      "metadata": {
        "id": "wh-mQICtZPVM"
      },
      "execution_count": null,
      "outputs": []
    },
    {
      "cell_type": "markdown",
      "source": [
        "\n",
        "\n",
        "#**1. Detection**\n",
        "\n",
        "\n",
        "\n",
        "\n"
      ],
      "metadata": {
        "id": "i3d9U0Splpf1"
      }
    },
    {
      "cell_type": "markdown",
      "source": [
        "## 1.1 Load"
      ],
      "metadata": {
        "id": "Py1JHZjraomB"
      }
    },
    {
      "cell_type": "markdown",
      "source": [
        "build a model from scratch and load a pretrianed model"
      ],
      "metadata": {
        "id": "x7JHRn9dc2Jk"
      }
    },
    {
      "cell_type": "code",
      "source": [
        "### TO DO ###\n",
        "# you can change the model if you want\n",
        "model = YOLO(\"yolov8n.yaml\")\n",
        "model = YOLO(\"yolov8n.pt\")"
      ],
      "metadata": {
        "id": "OKW7W0YeZtWR"
      },
      "execution_count": null,
      "outputs": []
    },
    {
      "cell_type": "markdown",
      "source": [
        "## 1.2 Train"
      ],
      "metadata": {
        "id": "_xZdpJUAdBmD"
      }
    },
    {
      "cell_type": "markdown",
      "source": [
        "fine-tune our model for specific use and evaluate its performance on the validation set"
      ],
      "metadata": {
        "id": "mVrImOeqdF-_"
      }
    },
    {
      "cell_type": "code",
      "source": [
        "### TO DO ###\n",
        "#1. chage the path to data.yaml\n",
        "#2. change the path of train, val, test folder in data.yaml\n",
        "#3. you can adjust epochs to however you want\n",
        "model.train(data=\"CHANGE-THE-PATH/data.yaml\", epochs=3)\n",
        "metrics = model.val()"
      ],
      "metadata": {
        "id": "JkOPpWylcMfo"
      },
      "execution_count": null,
      "outputs": []
    },
    {
      "cell_type": "markdown",
      "source": [
        "##1.3 Predict"
      ],
      "metadata": {
        "id": "pvLas_PKh8DW"
      }
    },
    {
      "cell_type": "markdown",
      "source": [
        "predict with a sample image"
      ],
      "metadata": {
        "id": "V3GsSW99gVN9"
      }
    },
    {
      "cell_type": "code",
      "source": [
        "### TO DO ###\n",
        "# change the path to test folder\n",
        "result = model(\"PATH/Coca-Cola-Deteciton1/test/images\")\n",
        "path = model.export(format=\"onnx\") # visualizing neural network with netron app"
      ],
      "metadata": {
        "id": "OoqInPPadbb0"
      },
      "execution_count": null,
      "outputs": []
    },
    {
      "cell_type": "markdown",
      "source": [
        "save the result to runs/detect/train_"
      ],
      "metadata": {
        "id": "gqjrbAtohwZH"
      }
    },
    {
      "cell_type": "code",
      "source": [
        "result = model(\"PATH/Coca-Cola-Deteciton1/test/images\",save=True)"
      ],
      "metadata": {
        "id": "i0JrjjnSgu5j"
      },
      "execution_count": null,
      "outputs": []
    },
    {
      "cell_type": "code",
      "source": [
        "# source from webcam doesn't work in Colab but locally!\n",
        "webcam = model(source=0,save=False)"
      ],
      "metadata": {
        "id": "121Q6kdHhdoi"
      },
      "execution_count": null,
      "outputs": []
    },
    {
      "cell_type": "markdown",
      "source": [
        "# **2. Segmentation** (just for fun)"
      ],
      "metadata": {
        "id": "cK7YfEkVlUyI"
      }
    },
    {
      "cell_type": "markdown",
      "source": [
        "##2.1 Load"
      ],
      "metadata": {
        "id": "jC6sL5JNoJX9"
      }
    },
    {
      "cell_type": "code",
      "source": [
        "# Don't try to run here too slow\n",
        "model_s = YOLO(\"yolov8n-seg.yaml\")\n",
        "model_s = YOLO(\"yolov8n-seg.pt\")\n",
        "# Transfer weights\n",
        "model_s = YOLO(\"yolov8n-seg.yaml\").load(\"yolov8n.pt\")"
      ],
      "metadata": {
        "colab": {
          "base_uri": "https://localhost:8080/"
        },
        "id": "J8BVV1MbjcoA",
        "outputId": "6c579282-8e19-40f5-aef4-1183539d51d8"
      },
      "execution_count": null,
      "outputs": [
        {
          "output_type": "stream",
          "name": "stdout",
          "text": [
            "Downloading https://github.com/ultralytics/assets/releases/download/v8.1.0/yolov8n-seg.pt to 'yolov8n-seg.pt'...\n"
          ]
        },
        {
          "output_type": "stream",
          "name": "stderr",
          "text": [
            "100%|██████████| 6.73M/6.73M [00:00<00:00, 82.6MB/s]\n"
          ]
        },
        {
          "output_type": "stream",
          "name": "stdout",
          "text": [
            "Transferred 355/417 items from pretrained weights\n"
          ]
        }
      ]
    },
    {
      "cell_type": "markdown",
      "source": [
        "##2.2 Train"
      ],
      "metadata": {
        "id": "Svgb-3Jkosep"
      }
    },
    {
      "cell_type": "code",
      "source": [
        "results = model_s.train(data=\"coco128-seg.yaml\", epochs=100, imgsz=640)"
      ],
      "metadata": {
        "id": "I_FjN8vyoyTn"
      },
      "execution_count": null,
      "outputs": []
    },
    {
      "cell_type": "markdown",
      "source": [
        "##2.3 Validation"
      ],
      "metadata": {
        "id": "Eoj0xBBxo-dQ"
      }
    },
    {
      "cell_type": "code",
      "source": [
        "# something like runs/segment/train/weights/best.pt\n",
        "model_s = YOLO(\"path/to/best.pt\")\n",
        "\n",
        "metrics = model_s.val()"
      ],
      "metadata": {
        "id": "172eTPZ1pE1p"
      },
      "execution_count": null,
      "outputs": []
    },
    {
      "cell_type": "markdown",
      "source": [
        "##2.4 Predict"
      ],
      "metadata": {
        "id": "O2Z1xWaFpwYJ"
      }
    },
    {
      "cell_type": "code",
      "source": [
        "results = model_s(data=\"https://ultralytics.com/images/bus.jpg\", save=True)"
      ],
      "metadata": {
        "colab": {
          "base_uri": "https://localhost:8080/"
        },
        "id": "uMfC87L5m95o",
        "outputId": "8418d9e6-2e1c-4ec3-f24d-67ab7b0149a0"
      },
      "execution_count": null,
      "outputs": [
        {
          "output_type": "stream",
          "name": "stdout",
          "text": [
            "WARNING ⚠️ 'source' is missing. Using 'source=/usr/local/lib/python3.10/dist-packages/ultralytics/assets'.\n",
            "\n",
            "image 1/2 /usr/local/lib/python3.10/dist-packages/ultralytics/assets/bus.jpg: 640x480 4 persons, 1 bus, 272.4ms\n",
            "image 2/2 /usr/local/lib/python3.10/dist-packages/ultralytics/assets/zidane.jpg: 384x640 2 persons, 1 tie, 163.8ms\n",
            "Speed: 5.6ms preprocess, 218.1ms inference, 12.2ms postprocess per image at shape (1, 3, 384, 640)\n",
            "Results saved to \u001b[1mruns/segment/predict\u001b[0m\n"
          ]
        }
      ]
    }
  ]
}
